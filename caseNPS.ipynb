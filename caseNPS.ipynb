{
 "cells": [
  {
   "cell_type": "markdown",
   "metadata": {
    "id": "UqSujwmjSiyg"
   },
   "source": [
    "### EDA"
   ]
  },
  {
   "cell_type": "code",
   "execution_count": null,
   "metadata": {
    "colab": {
     "base_uri": "https://localhost:8080/"
    },
    "id": "iFueKbjN2sMx",
    "outputId": "300578aa-c3b4-4613-f845-070584d5d2b5"
   },
   "outputs": [],
   "source": [
    "import numpy as np\n",
    "import pandas as pd\n",
    "import seaborn as sns\n",
    "%matplotlib inline\n",
    "import matplotlib.pyplot as plt\n",
    "import plotly.express as px\n",
    "from datetime import datetime\n",
    "import missingno as ms\n",
    "from datetime import datetime\n",
    "from pandas_profiling import ProfileReport\n",
    "\n",
    "pd.set_option(\"display.max_rows\",500)\n",
    "pd.set_option(\"display.max_columns\",500)\n",
    "pd.set_option(\"display.float_format\", \"{:.2f}\".format)\n"
   ]
  },
  {
   "cell_type": "code",
   "execution_count": 111,
   "metadata": {
    "id": "pk8tovx93qsp"
   },
   "outputs": [],
   "source": [
    "contact_df = pd.read_excel('Take_Home_Test_-_Data_Analyst.xlsx','Contact Info')\n",
    "nps_df = pd.read_excel('Take_Home_Test_-_Data_Analyst.xlsx','NPS')"
   ]
  },
  {
   "cell_type": "markdown",
   "metadata": {},
   "source": [
    "**Decidi fazer um merge dos dados para ficar mais fácil a análise**"
   ]
  },
  {
   "cell_type": "code",
   "execution_count": 112,
   "metadata": {
    "id": "ITtudVSQMCoY"
   },
   "outputs": [],
   "source": [
    "df = pd.merge(contact_df, nps_df, how = 'inner', on = 'Contact ID')"
   ]
  },
  {
   "cell_type": "code",
   "execution_count": 113,
   "metadata": {},
   "outputs": [
    {
     "name": "stdout",
     "output_type": "stream",
     "text": [
      "<class 'pandas.core.frame.DataFrame'>\n",
      "Int64Index: 114892 entries, 0 to 114891\n",
      "Data columns (total 11 columns):\n",
      " #   Column                             Non-Null Count   Dtype \n",
      "---  ------                             --------------   ----- \n",
      " 0   Contact ID                         114892 non-null  int64 \n",
      " 1   Tipo de Usuário                    114892 non-null  object\n",
      " 2   Canal                              114892 non-null  object\n",
      " 3   Contact Reason                     114892 non-null  object\n",
      " 4   MCC                                114892 non-null  object\n",
      " 5   TMA                                114892 non-null  object\n",
      " 6   AFTER CALL WORK TIME               114892 non-null  object\n",
      " 7   Data                               114892 non-null  object\n",
      " 8   Nota pesquisa NPS                  114892 non-null  int64 \n",
      " 9   O que te motivou a dar esta nota?  114282 non-null  object\n",
      " 10  AgentID                            114892 non-null  object\n",
      "dtypes: int64(2), object(9)\n",
      "memory usage: 10.5+ MB\n"
     ]
    }
   ],
   "source": [
    "df.info()"
   ]
  },
  {
   "cell_type": "markdown",
   "metadata": {},
   "source": [
    "**Verificar os campos nulos**"
   ]
  },
  {
   "cell_type": "code",
   "execution_count": 5,
   "metadata": {},
   "outputs": [
    {
     "data": {
      "text/plain": [
       "Contact ID                             0\n",
       "Tipo de Usuário                        0\n",
       "Canal                                  0\n",
       "Contact Reason                         0\n",
       "MCC                                    0\n",
       "TMA                                    0\n",
       "AFTER CALL WORK TIME                   0\n",
       "Data                                   0\n",
       "Nota pesquisa NPS                      0\n",
       "O que te motivou a dar esta nota?    610\n",
       "AgentID                                0\n",
       "dtype: int64"
      ]
     },
     "execution_count": 5,
     "metadata": {},
     "output_type": "execute_result"
    }
   ],
   "source": [
    "df.isnull().sum()"
   ]
  },
  {
   "cell_type": "markdown",
   "metadata": {},
   "source": [
    "**Existem 610 nulos/brancos para a motivação das notas.**"
   ]
  },
  {
   "cell_type": "code",
   "execution_count": 6,
   "metadata": {},
   "outputs": [],
   "source": [
    "def missing (df):\n",
    "    missing_number = df.isnull().sum().sort_values(ascending=False)\n",
    "    missing_percent = (df.isnull().sum()/df.isnull().count()).sort_values(ascending=False)*100\n",
    "    missing_percent = round(missing_percent,2)\n",
    "    missing_values = pd.concat([missing_number, missing_percent], axis=1, keys=['Missing_Number', 'Missing_Percent'])\n",
    "    return missing_values"
   ]
  },
  {
   "cell_type": "markdown",
   "metadata": {},
   "source": [
    "**53% dos dados estão faltando. Seria interessante verificar com o cliente em relação aos dados faltantes**"
   ]
  },
  {
   "cell_type": "code",
   "execution_count": 7,
   "metadata": {},
   "outputs": [
    {
     "data": {
      "text/html": [
       "<div>\n",
       "<style scoped>\n",
       "    .dataframe tbody tr th:only-of-type {\n",
       "        vertical-align: middle;\n",
       "    }\n",
       "\n",
       "    .dataframe tbody tr th {\n",
       "        vertical-align: top;\n",
       "    }\n",
       "\n",
       "    .dataframe thead th {\n",
       "        text-align: right;\n",
       "    }\n",
       "</style>\n",
       "<table border=\"1\" class=\"dataframe\">\n",
       "  <thead>\n",
       "    <tr style=\"text-align: right;\">\n",
       "      <th></th>\n",
       "      <th>Missing_Number</th>\n",
       "      <th>Missing_Percent</th>\n",
       "    </tr>\n",
       "  </thead>\n",
       "  <tbody>\n",
       "    <tr>\n",
       "      <th>O que te motivou a dar esta nota?</th>\n",
       "      <td>610</td>\n",
       "      <td>0.53</td>\n",
       "    </tr>\n",
       "    <tr>\n",
       "      <th>Contact ID</th>\n",
       "      <td>0</td>\n",
       "      <td>0.00</td>\n",
       "    </tr>\n",
       "    <tr>\n",
       "      <th>Tipo de Usuário</th>\n",
       "      <td>0</td>\n",
       "      <td>0.00</td>\n",
       "    </tr>\n",
       "    <tr>\n",
       "      <th>Canal</th>\n",
       "      <td>0</td>\n",
       "      <td>0.00</td>\n",
       "    </tr>\n",
       "    <tr>\n",
       "      <th>Contact Reason</th>\n",
       "      <td>0</td>\n",
       "      <td>0.00</td>\n",
       "    </tr>\n",
       "    <tr>\n",
       "      <th>MCC</th>\n",
       "      <td>0</td>\n",
       "      <td>0.00</td>\n",
       "    </tr>\n",
       "    <tr>\n",
       "      <th>TMA</th>\n",
       "      <td>0</td>\n",
       "      <td>0.00</td>\n",
       "    </tr>\n",
       "    <tr>\n",
       "      <th>AFTER CALL WORK TIME</th>\n",
       "      <td>0</td>\n",
       "      <td>0.00</td>\n",
       "    </tr>\n",
       "    <tr>\n",
       "      <th>Data</th>\n",
       "      <td>0</td>\n",
       "      <td>0.00</td>\n",
       "    </tr>\n",
       "    <tr>\n",
       "      <th>Nota pesquisa NPS</th>\n",
       "      <td>0</td>\n",
       "      <td>0.00</td>\n",
       "    </tr>\n",
       "    <tr>\n",
       "      <th>AgentID</th>\n",
       "      <td>0</td>\n",
       "      <td>0.00</td>\n",
       "    </tr>\n",
       "  </tbody>\n",
       "</table>\n",
       "</div>"
      ],
      "text/plain": [
       "                                   Missing_Number  Missing_Percent\n",
       "O que te motivou a dar esta nota?             610             0.53\n",
       "Contact ID                                      0             0.00\n",
       "Tipo de Usuário                                 0             0.00\n",
       "Canal                                           0             0.00\n",
       "Contact Reason                                  0             0.00\n",
       "MCC                                             0             0.00\n",
       "TMA                                             0             0.00\n",
       "AFTER CALL WORK TIME                            0             0.00\n",
       "Data                                            0             0.00\n",
       "Nota pesquisa NPS                               0             0.00\n",
       "AgentID                                         0             0.00"
      ]
     },
     "execution_count": 7,
     "metadata": {},
     "output_type": "execute_result"
    }
   ],
   "source": [
    "missing(df)"
   ]
  },
  {
   "cell_type": "code",
   "execution_count": 8,
   "metadata": {},
   "outputs": [
    {
     "data": {
      "text/html": [
       "<div>\n",
       "<style scoped>\n",
       "    .dataframe tbody tr th:only-of-type {\n",
       "        vertical-align: middle;\n",
       "    }\n",
       "\n",
       "    .dataframe tbody tr th {\n",
       "        vertical-align: top;\n",
       "    }\n",
       "\n",
       "    .dataframe thead th {\n",
       "        text-align: right;\n",
       "    }\n",
       "</style>\n",
       "<table border=\"1\" class=\"dataframe\">\n",
       "  <thead>\n",
       "    <tr style=\"text-align: right;\">\n",
       "      <th></th>\n",
       "      <th>Contact ID</th>\n",
       "      <th>Tipo de Usuário</th>\n",
       "      <th>Canal</th>\n",
       "      <th>Contact Reason</th>\n",
       "      <th>MCC</th>\n",
       "      <th>TMA</th>\n",
       "      <th>AFTER CALL WORK TIME</th>\n",
       "      <th>Data</th>\n",
       "      <th>Nota pesquisa NPS</th>\n",
       "      <th>O que te motivou a dar esta nota?</th>\n",
       "      <th>AgentID</th>\n",
       "    </tr>\n",
       "  </thead>\n",
       "  <tbody>\n",
       "    <tr>\n",
       "      <th>0</th>\n",
       "      <td>87237</td>\n",
       "      <td>Usuario Tipo 1</td>\n",
       "      <td>Canal Entrada 5</td>\n",
       "      <td>Motivo 5</td>\n",
       "      <td>MCC 2</td>\n",
       "      <td>00:12:41</td>\n",
       "      <td>00:01:06</td>\n",
       "      <td>dia 1</td>\n",
       "      <td>-1</td>\n",
       "      <td>Razão 3\\nRazão 1</td>\n",
       "      <td>Ag_71</td>\n",
       "    </tr>\n",
       "    <tr>\n",
       "      <th>1</th>\n",
       "      <td>87238</td>\n",
       "      <td>Usuario Tipo 1</td>\n",
       "      <td>Canal Entrada 5</td>\n",
       "      <td>Motivo 18</td>\n",
       "      <td>MCC 9</td>\n",
       "      <td>00:05:49</td>\n",
       "      <td>00:01:01</td>\n",
       "      <td>dia 1</td>\n",
       "      <td>-1</td>\n",
       "      <td>Razão 3</td>\n",
       "      <td>Ag_94</td>\n",
       "    </tr>\n",
       "    <tr>\n",
       "      <th>2</th>\n",
       "      <td>87239</td>\n",
       "      <td>Usuario Tipo 1</td>\n",
       "      <td>Canal Entrada 5</td>\n",
       "      <td>Motivo 20</td>\n",
       "      <td>MCC 2</td>\n",
       "      <td>00:08:00</td>\n",
       "      <td>00:01:12</td>\n",
       "      <td>dia 1</td>\n",
       "      <td>-1</td>\n",
       "      <td>Razão 3</td>\n",
       "      <td>Ag_144</td>\n",
       "    </tr>\n",
       "    <tr>\n",
       "      <th>3</th>\n",
       "      <td>87240</td>\n",
       "      <td>Usuario Tipo 1</td>\n",
       "      <td>Canal Entrada 5</td>\n",
       "      <td>Motivo 20</td>\n",
       "      <td>MCC 5</td>\n",
       "      <td>00:02:18</td>\n",
       "      <td>00:00:13</td>\n",
       "      <td>dia 1</td>\n",
       "      <td>-1</td>\n",
       "      <td>Razão 3\\nRazão 1\\nRazão 2</td>\n",
       "      <td>Ag_53</td>\n",
       "    </tr>\n",
       "    <tr>\n",
       "      <th>4</th>\n",
       "      <td>87242</td>\n",
       "      <td>Usuario Tipo 1</td>\n",
       "      <td>Canal Entrada 5</td>\n",
       "      <td>Motivo 2</td>\n",
       "      <td>MCC 5</td>\n",
       "      <td>00:02:34</td>\n",
       "      <td>00:01:46</td>\n",
       "      <td>dia 1</td>\n",
       "      <td>9</td>\n",
       "      <td>Razão 3\\nRazão 1\\nRazão 2</td>\n",
       "      <td>Ag_142</td>\n",
       "    </tr>\n",
       "  </tbody>\n",
       "</table>\n",
       "</div>"
      ],
      "text/plain": [
       "   Contact ID Tipo de Usuário            Canal Contact Reason    MCC  \\\n",
       "0       87237  Usuario Tipo 1  Canal Entrada 5       Motivo 5  MCC 2   \n",
       "1       87238  Usuario Tipo 1  Canal Entrada 5      Motivo 18  MCC 9   \n",
       "2       87239  Usuario Tipo 1  Canal Entrada 5      Motivo 20  MCC 2   \n",
       "3       87240  Usuario Tipo 1  Canal Entrada 5      Motivo 20  MCC 5   \n",
       "4       87242  Usuario Tipo 1  Canal Entrada 5       Motivo 2  MCC 5   \n",
       "\n",
       "        TMA AFTER CALL WORK TIME   Data  Nota pesquisa NPS  \\\n",
       "0  00:12:41             00:01:06  dia 1                 -1   \n",
       "1  00:05:49             00:01:01  dia 1                 -1   \n",
       "2  00:08:00             00:01:12  dia 1                 -1   \n",
       "3  00:02:18             00:00:13  dia 1                 -1   \n",
       "4  00:02:34             00:01:46  dia 1                  9   \n",
       "\n",
       "  O que te motivou a dar esta nota? AgentID  \n",
       "0                  Razão 3\\nRazão 1   Ag_71  \n",
       "1                           Razão 3   Ag_94  \n",
       "2                           Razão 3  Ag_144  \n",
       "3         Razão 3\\nRazão 1\\nRazão 2   Ag_53  \n",
       "4         Razão 3\\nRazão 1\\nRazão 2  Ag_142  "
      ]
     },
     "execution_count": 8,
     "metadata": {},
     "output_type": "execute_result"
    }
   ],
   "source": [
    "df.head()"
   ]
  },
  {
   "cell_type": "code",
   "execution_count": 9,
   "metadata": {},
   "outputs": [
    {
     "data": {
      "text/plain": [
       "(114892, 11)"
      ]
     },
     "execution_count": 9,
     "metadata": {},
     "output_type": "execute_result"
    }
   ],
   "source": [
    "df.shape"
   ]
  },
  {
   "cell_type": "markdown",
   "metadata": {},
   "source": [
    "## Vamos analisar o cálculo de NPS."
   ]
  },
  {
   "cell_type": "markdown",
   "metadata": {},
   "source": [
    "**Categorização do calculo NPS, quantos são promoters, detratores, total responses e valor real do NPS.**\n",
    " \n",
    "**Detratores (de 0 a 6): são clientes insatisfeitos que podem falar mal das empresas para outras pessoas e não realizar novas compras.**\n",
    "\n",
    "**Neutros ou passivos (7 ou 8): são clientes satisfeitos com uma empresa ou produtos, mas que não chegam a amá-la. Se o produto de outra loja chamar atenção, eles podem comprar em seu concorrente facilmente.**\n",
    "\n",
    "**Promotores (9 ou 10): são fãs da  empresa, muito mais propensos a recomendar seus produtos para os outros, permanecer como clientes e gastar mais dinheiro com novas compras.**"
   ]
  },
  {
   "cell_type": "markdown",
   "metadata": {},
   "source": [
    "**Calculo de NPS = Promotores – Detratores/Número total de respondentes.**"
   ]
  },
  {
   "cell_type": "code",
   "execution_count": 128,
   "metadata": {},
   "outputs": [
    {
     "data": {
      "text/plain": [
       "279994"
      ]
     },
     "execution_count": 128,
     "metadata": {},
     "output_type": "execute_result"
    }
   ],
   "source": [
    "total = df['Nota pesquisa NPS'].sum()\n",
    "total"
   ]
  },
  {
   "cell_type": "code",
   "execution_count": 131,
   "metadata": {},
   "outputs": [
    {
     "data": {
      "text/plain": [
       "Nota pesquisa NPS   0.10\n",
       "dtype: float64"
      ]
     },
     "execution_count": 131,
     "metadata": {},
     "output_type": "execute_result"
    }
   ],
   "source": [
    "filtrop = df[df['Nota pesquisa NPS'] >= 9 ]\n",
    "\n",
    "promotores = filtrop['Nota pesquisa NPS'].value_counts().to_frame()\n",
    "\n",
    "total_promotores = promotores.sum()\n",
    "total_promotores = (total/total_promotores) / 100\n",
    "total_promotores"
   ]
  },
  {
   "cell_type": "code",
   "execution_count": 132,
   "metadata": {},
   "outputs": [
    {
     "data": {
      "text/plain": [
       "Nota pesquisa NPS   0.19\n",
       "dtype: float64"
      ]
     },
     "execution_count": 132,
     "metadata": {},
     "output_type": "execute_result"
    }
   ],
   "source": [
    "fdetratores = df[(df['Nota pesquisa NPS'] >= 0) & (df['Nota pesquisa NPS'] <= 6) ]\n",
    "\n",
    "detratores = fdetratores['Nota pesquisa NPS'].value_counts().to_frame()\n",
    "total_detratores = detratores.sum()\n",
    "total_detratores = (total/total_detratores) / 100\n",
    "total_detratores"
   ]
  },
  {
   "cell_type": "code",
   "execution_count": 133,
   "metadata": {},
   "outputs": [
    {
     "data": {
      "text/plain": [
       "Nota pesquisa NPS   -0.10\n",
       "dtype: float64"
      ]
     },
     "execution_count": 133,
     "metadata": {},
     "output_type": "execute_result"
    }
   ],
   "source": [
    "nps = total_promotores - total_detratores\n",
    "nps"
   ]
  },
  {
   "cell_type": "markdown",
   "metadata": {},
   "source": [
    "### Uma nota negativa para o NPS significa ter mais detratores do que promotores, o que para o negócio é muito ruim.\n",
    "\n",
    "Zona de excelência - 75 a 100: marcas que transmitem experiências altamente positivas e relevantes para seus clientes. Possuem pouquíssimos clientes detratores e os processos estratégicos geram alto valor para o público.\n",
    "\n",
    "Zona de qualidade - 50 a 74: Essa zona de NPS é uma boa avaliação, mas, neste caso, a empresa apresenta alguns pontos de melhoria. Vale ficar de olho nas oportunidades de crescimento e nos gaps que podem se tornar novas entregas de valor para o cliente.\n",
    "\n",
    "Zona de aperfeiçoamento - 0 a 49: Essa pontuação indica que há muitos pontos a serem ajustados pela empresa e que o seu cliente não está satisfeito com a experiência. Aproveite o retorno dessas pessoas para aprimorar todas as etapas de venda e, principalmente, pós-venda.\n",
    "\n",
    "## Zona crítica -100 a -1: Sim, existe NPS negativo, quando o % de detratores é maior do que o de promotores. Esse é um nível de alerta máximo para empresa. Significa que o público tem alto potencial de falar mal da sua marca. É importante repensar toda a estratégia de negócio para reverter essa situação.\n",
    "\n",
    "ref: https://www.sydle.com/br/blog/nps-como-funciona-5f344f0f1a9e2671048b3601/"
   ]
  },
  {
   "cell_type": "markdown",
   "metadata": {},
   "source": [
    "**Um pouco mais de data cleaning, trocar os nulos por ? e mudar a formataçao do TMA e After Call WorkTime e apresentar um pouco de visualização**"
   ]
  },
  {
   "cell_type": "code",
   "execution_count": 114,
   "metadata": {},
   "outputs": [],
   "source": [
    "df['AFTER CALL WORK TIME'] = df['AFTER CALL WORK TIME'].apply(lambda time:time.strftime(\"%H:%M:%S\"))\n",
    "df['TMA'] = df['TMA'].apply(lambda time:time.strftime(\"%H:%M:%S\"))"
   ]
  },
  {
   "cell_type": "code",
   "execution_count": 16,
   "metadata": {},
   "outputs": [],
   "source": [
    "df['O que te motivou a dar esta nota?'] = df['O que te motivou a dar esta nota?'].fillna('?')"
   ]
  },
  {
   "cell_type": "code",
   "execution_count": 17,
   "metadata": {},
   "outputs": [],
   "source": [
    "df = df.assign(Reason=lambda x:df['O que te motivou a dar esta nota?'].apply(lambda x: x.split('\\n')[0]))"
   ]
  },
  {
   "cell_type": "markdown",
   "metadata": {},
   "source": [
    "**O que motivou a ter notas baixas para o NPS?**"
   ]
  },
  {
   "cell_type": "code",
   "execution_count": 18,
   "metadata": {},
   "outputs": [
    {
     "data": {
      "text/plain": [
       "Razão 3    69756\n",
       "Razão 1    35832\n",
       "Razão 2     8694\n",
       "?            610\n",
       "Name: Reason, dtype: int64"
      ]
     },
     "execution_count": 18,
     "metadata": {},
     "output_type": "execute_result"
    }
   ],
   "source": [
    "df.Reason.value_counts()"
   ]
  },
  {
   "cell_type": "code",
   "execution_count": 34,
   "metadata": {},
   "outputs": [
    {
     "data": {
      "image/png": "[encoded data removed]",
      "text/plain": [
       "<Figure size 720x216 with 1 Axes>"
      ]
     },
     "metadata": {},
     "output_type": "display_data"
    }
   ],
   "source": [
    "plt.figure(figsize=(10,3))\n",
    "plt.hist(df['Reason'],\n",
    "        facecolor = 'DodgerBlue',\n",
    "        edgecolor = 'DodgerBlue',\n",
    "        bins = 20)\n",
    "plt.show()"
   ]
  },
  {
   "cell_type": "markdown",
   "metadata": {},
   "source": [
    "**Notei que existem muitas notas -1 o que está fora do padrão de cálculo de NPS, estão caso esse dado esteja incorreto na fonte , qual seria as notas voltadas a razão que atualmente tem maior reclamação**"
   ]
  },
  {
   "cell_type": "code",
   "execution_count": 21,
   "metadata": {},
   "outputs": [
    {
     "data": {
      "text/plain": [
       "<matplotlib.legend.Legend at 0x7f8b16926bb0>"
      ]
     },
     "execution_count": 21,
     "metadata": {},
     "output_type": "execute_result"
    },
    {
     "data": {
      "image/png": "[encoded data removed]",
      "text/plain": [
       "<Figure size 720x216 with 1 Axes>"
      ]
     },
     "metadata": {},
     "output_type": "display_data"
    }
   ],
   "source": [
    "filtro = (df[\"Nota pesquisa NPS\"] != -1)\n",
    "temp_df = df[filtro]\n",
    "\n",
    "plt.figure(figsize=(10,3))  \n",
    "sns.countplot(x='Nota pesquisa NPS',data=temp_df,hue='Reason',palette='viridis')\n",
    "# To relocate the legend\n",
    "plt.legend(bbox_to_anchor=(1.05, 1), loc=2, borderaxespad=0.)"
   ]
  },
  {
   "cell_type": "markdown",
   "metadata": {},
   "source": [
    "**Foi verificado tambem que dado as notas -1 é possivel ver também que o TMA para a razão 3 está acima de 23:42:30, o que não parece muito comum então possívelmente dado esteja incorreto, necessidade de validação com o cliente**"
   ]
  },
  {
   "cell_type": "code",
   "execution_count": 22,
   "metadata": {},
   "outputs": [
    {
     "data": {
      "text/plain": [
       "Reason   TMA     \n",
       "?        00:01:00    1\n",
       "         00:01:01    1\n",
       "         00:01:02    1\n",
       "         00:01:03    1\n",
       "         00:01:04    1\n",
       "                    ..\n",
       "Razão 3  23:42:30    1\n",
       "         23:45:00    1\n",
       "         23:47:30    1\n",
       "         23:51:40    1\n",
       "         23:59:10    1\n",
       "Name: Nota pesquisa NPS, Length: 6643, dtype: int64"
      ]
     },
     "execution_count": 22,
     "metadata": {},
     "output_type": "execute_result"
    }
   ],
   "source": [
    "filtro = (df[\"Nota pesquisa NPS\"] == -1)\n",
    "temp_df = df[filtro]\n",
    "temp_df.groupby(by=['Reason','TMA']).count()['Nota pesquisa NPS']"
   ]
  },
  {
   "cell_type": "code",
   "execution_count": 80,
   "metadata": {},
   "outputs": [
    {
     "data": {
      "text/plain": [
       "AgentID  TMA     \n",
       "Ag_1     00:02:20    3\n",
       "         00:03:55    3\n",
       "         00:01:10    2\n",
       "         00:01:15    2\n",
       "         00:01:19    2\n",
       "                    ..\n",
       "Ag_99    08:56:40    1\n",
       "         09:14:10    1\n",
       "         09:55:50    1\n",
       "         10:58:20    1\n",
       "         17:22:30    1\n",
       "Name: TMA, Length: 95519, dtype: int64"
      ]
     },
     "execution_count": 80,
     "metadata": {},
     "output_type": "execute_result"
    }
   ],
   "source": [
    "df.groupby('AgentID')['TMA'].value_counts()"
   ]
  },
  {
   "cell_type": "code",
   "execution_count": 103,
   "metadata": {},
   "outputs": [
    {
     "data": {
      "text/plain": [
       "TMA       AgentID\n",
       "00:01:00  Ag_34      3\n",
       "          Ag_67      3\n",
       "          Ag_131     2\n",
       "          Ag_185     2\n",
       "          Ag_227     2\n",
       "                    ..\n",
       "23:54:10  Ag_275     1\n",
       "23:55:50  Ag_295     1\n",
       "23:57:30  Ag_289     1\n",
       "          Ag_394     1\n",
       "23:59:10  Ag_4       1\n",
       "Name: AgentID, Length: 95519, dtype: int64"
      ]
     },
     "execution_count": 103,
     "metadata": {},
     "output_type": "execute_result"
    }
   ],
   "source": [
    "byagentTMA = df.groupby('TMA')['AgentID'].value_counts()\n",
    "byagentTMA"
   ]
  },
  {
   "cell_type": "code",
   "execution_count": 105,
   "metadata": {},
   "outputs": [
    {
     "data": {
      "text/plain": [
       "AFTER CALL WORK TIME  AgentID\n",
       "00:00:00              Ag_387     267\n",
       "                      Ag_172     260\n",
       "                      Ag_256     260\n",
       "                      Ag_262     259\n",
       "                      Ag_259     254\n",
       "                                ... \n",
       "01:14:38              Ag_356       1\n",
       "01:29:46              Ag_268       1\n",
       "01:54:46              Ag_190       1\n",
       "02:04:47              Ag_329       1\n",
       "21:59:31              Ag_5         1\n",
       "Name: AgentID, Length: 18170, dtype: int64"
      ]
     },
     "execution_count": 105,
     "metadata": {},
     "output_type": "execute_result"
    }
   ],
   "source": [
    "byagentafcw = df.groupby('AFTER CALL WORK TIME')['AgentID'].value_counts()\n",
    "byagentafcw"
   ]
  },
  {
   "cell_type": "code",
   "execution_count": 134,
   "metadata": {},
   "outputs": [
    {
     "data": {
      "text/plain": [
       "Canal Entrada 3    52270\n",
       "Canal Entrada 5    28655\n",
       "Canal Entrada 2    21861\n",
       "Canal Entrada 1     9603\n",
       "Canal Entrada 4     2503\n",
       "Name: Canal, dtype: int64"
      ]
     },
     "execution_count": 134,
     "metadata": {},
     "output_type": "execute_result"
    }
   ],
   "source": [
    "#Qual o canal de contato com o cliente para pesquisa de NPS?\n",
    "df['Canal'].value_counts()"
   ]
  },
  {
   "cell_type": "markdown",
   "metadata": {},
   "source": [
    "Verificações a serem feitas para melhoria do NPS. \n",
    "\n",
    "# Momento em que é enviado a pesquisa.\n",
    "\n",
    "- Pode ser que o cliente ainda não tenha tido tempo suficiente para testar o produto e serviço. Existem dois caminhos mais prováveis: ele não vai responder, porque ainda não tem um posicionamento ou ele vai responder, mas de uma forma que não reflete a sua opinião. O tempo certo para enviar a pergunta decisiva depende do ciclo de vida de cada produto. Em geral, a dica é dar ao consumidor um prazo de uma a duas semanas antes de mandar o NPS. \n",
    "\n",
    "# Acerte o canal\n",
    "\n",
    "- Existem muitos canais diferentes que uma empresa pode utilizar para enviar a pergunta do \n",
    "NPS para os seus clientes: pode ser por SMS, WhatsApp, ligação, e-mail, direct no Instagram, Messenger, plataformas e tantos outros. \n",
    "    \n",
    "- É fundamental saber qual é o canal de comunicação que esse cliente mais utiliza, que ele vai de fato receber a mensagem para poder responder. Para identificar isso, não tem outro jeito: você precisa conhecer o seu público-alvo, precisa saber de que forma ele se comunica e em quais canais é mais ativo. \n",
    "De nada adianta enviar a pergunta decisiva por e-mail para alguém que nunca checa a sua caixa de entrada, é totalmente contraproducente. Se a sua empresa já dedicou um tempo a pesquisar sobre o público-alvo e construir a persona, já está muitos passos à frente da concorrência. Se esse caminho ainda não foi percorrido, é importante investir nesse processo antes de começar o NPS.\n",
    "\n",
    "fonte: https://amplifique.me/blog/como-aumentar-a-taxa-de-resposta-do-nps/"
   ]
  },
  {
   "cell_type": "code",
   "execution_count": null,
   "metadata": {},
   "outputs": [],
   "source": []
  }
 ],
 "metadata": {
  "colab": {
   "collapsed_sections": [],
   "name": "caseSumUp-resultado.ipynb",
   "provenance": []
  },
  "kernelspec": {
   "display_name": "Python 3",
   "language": "python",
   "name": "python3"
  },
  "language_info": {
   "codemirror_mode": {
    "name": "ipython",
    "version": 3
   },
   "file_extension": ".py",
   "mimetype": "text/x-python",
   "name": "python",
   "nbconvert_exporter": "python",
   "pygments_lexer": "ipython3",
   "version": "3.8.3"
  }
 },
 "nbformat": 4,
 "nbformat_minor": 4
}
